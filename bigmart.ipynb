{
 "cells": [
  {
   "cell_type": "markdown",
   "metadata": {},
   "source": [
    "<img scr =\"https://www.google.co.in/imgres?imgurl=http%3A%2F%2F3.bp.blogspot.com%2F-itB7-AuweWg%2FUPKRV-7BZsI%2FAAAAAAAAADk%2FnwUBL3dan9Q%2Fs1600%2Fbig_mart_20110325093847.jpg&imgrefurl=http%3A%2F%2Fseeksaurav.blogspot.com%2F2013%2F01%2Fweek-8.html&docid=1OEkKNkScqBaeM&tbnid=_RSunStIEq5rbM%3A&vet=10ahUKEwi6l5rw0L7cAhXSXn0KHUunBGEQMwhuKCQwJA..i&w=600&h=450&safe=active&bih=859&biw=1774&q=bigmart%20sale%20price%20problem&ved=0ahUKEwi6l5rw0L7cAhXSXn0KHUunBGEQMwhuKCQwJA&iact=mrc&uact=8\", height=250, width=250 >"
   ]
  },
  {
   "cell_type": "markdown",
   "metadata": {},
   "source": [
    "# LifeCycle fo Data Scient Project \n",
    "-------------------------------------------------\n",
    "### 1. Defining the problem statement  \n",
    "### 2. Collecting the data\n",
    "### 3. Exploratory data analysis\n",
    "### 4. Feature engineering\n",
    "### 5. Modelling\n",
    "### 6. Testing"
   ]
  },
  {
   "cell_type": "markdown",
   "metadata": {},
   "source": [
    "## 1.Defining the problem statement\n",
    "\n",
    "BigMart have collected 2013 sales data for 1559 products across 10 stores in different cities.Also, certain attributes of each product and store have been defined. \n",
    "The aim is to build a predictive model and find out the sales of each product at a particular store.Using this model, BigMart will try to understand the properties of products and stores which play a key role in increasing sales"
   ]
  },
  {
   "cell_type": "markdown",
   "metadata": {},
   "source": [
    "![title](http://3.bp.blogspot.com/-itB7-AuweWg/UPKRV-7BZsI/AAAAAAAAADk/nwUBL3dan9Q/s1600/big_mart_20110325093847.jpg)"
   ]
  },
  {
   "cell_type": "markdown",
   "metadata": {},
   "source": [
    "## 2. Collecting the data"
   ]
  },
  {
   "cell_type": "markdown",
   "metadata": {},
   "source": [
    "Training data set and testing data set are given by Kaggle you can download from\n",
    "my github https://github.com/vishalbule/Practical-Data-Science\n",
    "\n",
    "#### Load train, test dataset using Pandas"
   ]
  },
  {
   "cell_type": "code",
   "execution_count": null,
   "metadata": {
    "collapsed": true,
    "scrolled": false
   },
   "outputs": [],
   "source": [
    "import pandas as pd\n",
    "import matplotlib.pyplot as plt\n",
    "import pylab as plot\n",
    "import seaborn as sns\n",
    "%matplotlib inline\n",
    "\n",
    "train=pd.read_csv(\"/Users/vishal.bule/Desktop/ML/Train_BigMart.csv\")\n",
    "test=pd.read_csv(\"/Users/vishal.bule/Desktop/ML/Test_BigMart.csv\")\n"
   ]
  },
  {
   "cell_type": "code",
   "execution_count": 32,
   "metadata": {},
   "outputs": [
    {
     "name": "stdout",
     "output_type": "stream",
     "text": [
      "(8523, 13)\n",
      "--------------\n",
      "Item_Identifier              8523\n",
      "Item_Weight                  7060\n",
      "Item_Fat_Content             8523\n",
      "Item_Visibility              8523\n",
      "Item_Type                    8523\n",
      "Item_MRP                     8523\n",
      "Outlet_Identifier            8523\n",
      "Outlet_Establishment_Year    8523\n",
      "Outlet_Size                  6113\n",
      "Outlet_Location_Type         8523\n",
      "Outlet_Type                  8523\n",
      "Item_Outlet_Sales            8523\n",
      "Count_Item_Outlet_Sales      8523\n",
      "dtype: int64\n",
      "--------------\n",
      "Item_Identifier                 0\n",
      "Item_Weight                  1463\n",
      "Item_Fat_Content                0\n",
      "Item_Visibility                 0\n",
      "Item_Type                       0\n",
      "Item_MRP                        0\n",
      "Outlet_Identifier               0\n",
      "Outlet_Establishment_Year       0\n",
      "Outlet_Size                  2410\n",
      "Outlet_Location_Type            0\n",
      "Outlet_Type                     0\n",
      "Item_Outlet_Sales               0\n",
      "Count_Item_Outlet_Sales         0\n",
      "dtype: int64\n"
     ]
    }
   ],
   "source": [
    "print train.shape\n",
    "print \"--------------\"\n",
    "print train.count()\n",
    "print \"--------------\"\n",
    "print train.isnull().sum()"
   ]
  },
  {
   "cell_type": "markdown",
   "metadata": {},
   "source": [
    "## 3. Exploratory data analysis\n",
    "\n",
    "Remember the quality of your inputs decide the quality of your output. So, once you have got your business hypothesis ready, it makes sense to spend lot of time and efforts here. With my personal estimate, data exploration, cleaning and preparation can take up to 70% of your total project time.\n",
    "\n",
    "Below are the steps involved to understand, clean and prepare your data for building your predictive model:\n",
    "\n",
    "#### 1.Variable Identification\n",
    "#### 2.Univariate Analysis\n",
    "#### 3.Bi-variate Analysis\n",
    "#### 4.Missing values treatment\n",
    "#### 5.Outlier treatment\n",
    "#### 6.Variable transformation\n",
    "#### 7.Variable creation\n",
    "\n",
    "Finally, we will need to iterate over steps 4 – 7 multiple times before we come up with our refined model.\n",
    "\n"
   ]
  },
  {
   "cell_type": "code",
   "execution_count": 33,
   "metadata": {},
   "outputs": [
    {
     "data": {
      "text/plain": [
       "<matplotlib.axes._subplots.AxesSubplot at 0x10cfe4090>"
      ]
     },
     "execution_count": 33,
     "metadata": {},
     "output_type": "execute_result"
    },
    {
     "data": {
      "image/png": "[encoded data removed]",
      "text/plain": [
       "<matplotlib.figure.Figure at 0x10d11b8d0>"
      ]
     },
     "metadata": {},
     "output_type": "display_data"
    }
   ],
   "source": [
    "#train['Item_Type'].value_counts().sort_index().plot.bar()\n",
    "\n",
    "sns.countplot(train['Item_Type'])\n",
    "\n",
    "(train['Item_Type'].value_counts()/len(train)).plot.bar()"
   ]
  },
  {
   "cell_type": "markdown",
   "metadata": {
    "collapsed": true
   },
   "source": [
    "#### Lets visualization number item sold in perticulter outlet "
   ]
  },
  {
   "cell_type": "code",
   "execution_count": 43,
   "metadata": {},
   "outputs": [
    {
     "name": "stdout",
     "output_type": "stream",
     "text": [
      "(8523, 13)\n"
     ]
    },
    {
     "data": {
      "text/plain": [
       "<matplotlib.axes._subplots.AxesSubplot at 0x1a120339d0>"
      ]
     },
     "execution_count": 43,
     "metadata": {},
     "output_type": "execute_result"
    },
    {
     "data": {
      "image/png": "[encoded data removed]",
      "text/plain": [
       "<matplotlib.figure.Figure at 0x1a12052bd0>"
      ]
     },
     "metadata": {},
     "output_type": "display_data"
    }
   ],
   "source": [
    "train['Item_Outlet_Sales'] = train['Item_Outlet_Sales'].apply(lambda x: round(x,0))\n",
    "train['Item_MRP'] = train['Item_MRP'].apply(lambda x: round(x,0))\n",
    "train['Count_Item_Outlet_Sales']=train['Item_Outlet_Sales']/train['Item_MRP']\n",
    "train['Count_Item_Outlet_Sales'] = train['Count_Item_Outlet_Sales'].apply(lambda x: round(x,0))\n",
    "\n",
    "print train.shape\n",
    "train.head(50)\n",
    "\n",
    "train.groupby('Count_Item_Outlet_Sales').agg('sum')[['Item_Visibility','Item_MRP']].plot(kind='bar',colors=['r','g'],figsize=(10, 5),stacked=True)"
   ]
  }
 ],
 "metadata": {
  "kernelspec": {
   "display_name": "Python 2",
   "language": "python",
   "name": "python2"
  },
  "language_info": {
   "codemirror_mode": {
    "name": "ipython",
    "version": 2
   },
   "file_extension": ".py",
   "mimetype": "text/x-python",
   "name": "python",
   "nbconvert_exporter": "python",
   "pygments_lexer": "ipython2",
   "version": "2.7.14"
  }
 },
 "nbformat": 4,
 "nbformat_minor": 2
}
